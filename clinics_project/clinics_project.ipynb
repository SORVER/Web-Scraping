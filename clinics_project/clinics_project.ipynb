{
 "cells": [
  {
   "cell_type": "code",
   "execution_count": 18,
   "id": "2e8e15d6-5f3e-436d-b935-1ab96c6d4075",
   "metadata": {
    "tags": []
   },
   "outputs": [],
   "source": [
    "import requests\n",
    "from bs4 import BeautifulSoup"
   ]
  },
  {
   "cell_type": "code",
   "execution_count": 112,
   "id": "7b542990-6564-4e16-adfd-88a4a744f788",
   "metadata": {
    "tags": []
   },
   "outputs": [],
   "source": [
    "# clean funci\n",
    "def get_clinic_name(id): \n",
    "    url = f\"https://{id}.portal.athenahealth.com/\"\n",
    "    response = requests.get(url)\n",
    "    html = response.text\n",
    "    soup = BeautifulSoup(html, \"html.parser\")\n",
    "    if  soup.find_all('h1') [0].text.strip() ==  \"Sorry, we can't find that practice. Make sure you typed the right address.\" or  soup.find_all('h1') [0].text.strip() == \"Payment Confirmation\":\n",
    "        return \"0\"\n",
    "    else:\n",
    "       \n",
    "        clinc_name = soup.find_all('h1') [-1].text.strip()\n",
    "        if clinc_name == \"Payment Confirmation\":\n",
    "            clinc_name = soup.find_all('div') [2].text.strip()\n",
    "        if clinc_name[:7] == 'Welcome':\n",
    "            clinc_name = clinc_name[11:]\n",
    "            ind = clinc_name.find(\"\\n\")\n",
    "            clinc_name = clinc_name[:ind]\n",
    "        return clinc_name"
   ]
  },
  {
   "cell_type": "code",
   "execution_count": 113,
   "id": "6c63614e-869b-47f3-984a-f6f9be094f37",
   "metadata": {
    "jupyter": {
     "source_hidden": true
    },
    "tags": []
   },
   "outputs": [],
   "source": [
    "master_list = []\n",
    "def get_clinics_inrange(l,r):\n",
    "    for i in range(l,r +1):\n",
    "        ans = get_clinic_name(i)\n",
    "        if ans != \"0\":\n",
    "            master_list.append(dict(id = i , name = ans))\n",
    "            print(dict(id = i , name = ans))\n",
    "   "
   ]
  },
  {
   "cell_type": "code",
   "execution_count": 116,
   "id": "36fbeba0-53de-4527-af15-d6d183aa1ec1",
   "metadata": {
    "tags": []
   },
   "outputs": [
    {
     "name": "stdout",
     "output_type": "stream",
     "text": [
      "{'id': 10016, 'name': 'Scott & Jonah Mds'}\n",
      "{'id': 10019, 'name': 'First Physicians'}\n",
      "{'id': 10021, 'name': 'Trophy Club Pediatrics, PA'}\n",
      "{'id': 10025, 'name': 'Seven Hills Medical Group'}\n",
      "{'id': 10035, 'name': 'Margarita M Vendrell MD'}\n",
      "{'id': 10036, 'name': 'the Revamed Healthcare Partners'}\n",
      "{'id': 10037, 'name': 'Trinity Medical Clinic'}\n",
      "{'id': 10044, 'name': 'Corry Memorial Hospital'}\n",
      "{'id': 10045, 'name': 'Valerie A. Hiveley Blatz, GNP'}\n",
      "{'id': 10046, 'name': 'Dr. Adnan Yousuf'}\n",
      "{'id': 10047, 'name': 'Internal Medicine of Wakefield'}\n",
      "{'id': 10048, 'name': 'Spine Institute Of Idaho'}\n",
      "{'id': 10051, 'name': 'Kiddos Health and Urgent Care'}\n",
      "{'id': 10052, 'name': 'Integrative Medical Group'}\n",
      "{'id': 10054, 'name': 'Northshore Eye Care Inc'}\n",
      "{'id': 10055, 'name': 'Peak Neurology and Sleep Medicine'}\n",
      "{'id': 10056, 'name': 'Atlanta Orthopaedic Institute'}\n",
      "{'id': 10058, 'name': 'Liza Presser Belkin MD'}\n",
      "{'id': 10064, 'name': 'Steven J Steele MD, FACS, PA'}\n",
      "{'id': 10068, 'name': 'Abernathy Clinic'}\n",
      "{'id': 10069, 'name': 'Bradon Kimura MD Inc.'}\n",
      "{'id': 10075, 'name': 'Henal J Shah MD P.C.'}\n",
      "{'id': 10076, 'name': 'The Musello Partnership LLC'}\n",
      "{'id': 10077, 'name': 'Fish River Rural Health'}\n",
      "{'id': 10081, 'name': 'Neurology Specialists of the Treasu'}\n",
      "{'id': 10088, 'name': 'George Condax Retina Spec PPLC'}\n",
      "{'id': 10095, 'name': 'New Jersey Foot and Ankle Associates'}\n",
      "{'id': 10096, 'name': 'Total Patient Care of Ocala'}\n",
      "{'id': 10097, 'name': 'Jose J Monsivais MD PA'}\n",
      "{'id': 10098, 'name': 'WESTERN DUPAGE OBSTETRICS AND GYNEC'}\n",
      "{'id': 10099, 'name': 'Hamdard Health Alliance'}\n",
      "{'id': 10109, 'name': 'METRO XTRACARE, P.C.'}\n",
      "{'id': 10112, 'name': 'Twin County Physicians Practices'}\n",
      "{'id': 10114, 'name': 'Ascension Medical Group'}\n",
      "{'id': 10117, 'name': 'Starfish Pediatrics'}\n",
      "{'id': 10127, 'name': 'Heartland Medical Associates LLC'}\n",
      "{'id': 10128, 'name': 'ESFANDIAR ESFANDIARIFARD M.D. INC'}\n",
      "{'id': 10132, 'name': 'Allied Healthcare'}\n",
      "{'id': 10133, 'name': 'the New Horizon Family Health Services'}\n",
      "{'id': 10134, 'name': 'MCJR, LLC'}\n",
      "{'id': 10136, 'name': 'San Antonio Spine Center'}\n",
      "{'id': 10138, 'name': 'Andrew Adelson MD'}\n",
      "{'id': 10141, 'name': 'Unique Healthcare Options'}\n",
      "{'id': 10142, 'name': 'Winston-Salem Pediatrics'}\n",
      "{'id': 10147, 'name': 'Rony Kako, M.D.'}\n",
      "{'id': 10148, 'name': \"Center for Women's Healthcare\"}\n",
      "{'id': 10154, 'name': 'MASONBORO URGENT CARE, P.C.'}\n",
      "{'id': 10155, 'name': 'The Glaucoma Institute'}\n",
      "{'id': 10157, 'name': 'Cottonport, Marksville, Simmesport, Mansura and Palmetto Family Clinic'}\n",
      "{'id': 10158, 'name': 'Health Express'}\n",
      "{'id': 10159, 'name': 'Bernard Orewa, MD, PC'}\n",
      "{'id': 10160, 'name': 'Trinity Family Health Care, LLC'}\n",
      "{'id': 10163, 'name': 'Cuyahoga Falls Foot Care, Inc.'}\n",
      "{'id': 10170, 'name': \"Women's Health Connecticut and Women's Health of Central Massachusetts\"}\n",
      "{'id': 10185, 'name': 'Barrett Clinic, P.C.'}\n",
      "{'id': 10187, 'name': 'Brain and Spine Neurosurgical Institute'}\n",
      "{'id': 10193, 'name': \"Women's Health Specialists of Advantia\"}\n",
      "{'id': 10194, 'name': 'Sheng H Chang MD Inc'}\n",
      "{'id': 10195, 'name': 'BALLINGER HOSPITAL CLINIC'}\n"
     ]
    }
   ],
   "source": [
    "get_clinics_inrange(10000,10200)"
   ]
  },
  {
   "cell_type": "code",
   "execution_count": 119,
   "id": "1c5b1215-75c6-48d4-aae8-47d0be2c336e",
   "metadata": {
    "tags": []
   },
   "outputs": [],
   "source": [
    "import pandas as pd"
   ]
  },
  {
   "cell_type": "code",
   "execution_count": 120,
   "id": "112df5f6-fae4-40d7-8022-20cb320715de",
   "metadata": {
    "tags": []
   },
   "outputs": [
    {
     "name": "stdout",
     "output_type": "stream",
     "text": [
      "       id                                               name\n",
      "0   10036                    the Revamed Healthcare Partners\n",
      "1   10016                                  Scott & Jonah Mds\n",
      "2   10019                                   First Physicians\n",
      "3   10021                         Trophy Club Pediatrics, PA\n",
      "4   10025                          Seven Hills Medical Group\n",
      "5   10035                            Margarita M Vendrell MD\n",
      "6   10036                    the Revamed Healthcare Partners\n",
      "7   10037                             Trinity Medical Clinic\n",
      "8   10044                            Corry Memorial Hospital\n",
      "9   10045                      Valerie A. Hiveley Blatz, GNP\n",
      "10  10046                                   Dr. Adnan Yousuf\n",
      "11  10047                     Internal Medicine of Wakefield\n",
      "12  10048                           Spine Institute Of Idaho\n",
      "13  10051                      Kiddos Health and Urgent Care\n",
      "14  10052                          Integrative Medical Group\n",
      "15  10054                            Northshore Eye Care Inc\n",
      "16  10055                  Peak Neurology and Sleep Medicine\n",
      "17  10056                      Atlanta Orthopaedic Institute\n",
      "18  10058                             Liza Presser Belkin MD\n",
      "19  10064                       Steven J Steele MD, FACS, PA\n",
      "20  10068                                   Abernathy Clinic\n",
      "21  10069                              Bradon Kimura MD Inc.\n",
      "22  10075                               Henal J Shah MD P.C.\n",
      "23  10076                        The Musello Partnership LLC\n",
      "24  10077                            Fish River Rural Health\n",
      "25  10081                Neurology Specialists of the Treasu\n",
      "26  10088                     George Condax Retina Spec PPLC\n",
      "27  10095               New Jersey Foot and Ankle Associates\n",
      "28  10096                        Total Patient Care of Ocala\n",
      "29  10097                             Jose J Monsivais MD PA\n",
      "30  10098                WESTERN DUPAGE OBSTETRICS AND GYNEC\n",
      "31  10099                            Hamdard Health Alliance\n",
      "32  10109                               METRO XTRACARE, P.C.\n",
      "33  10112                   Twin County Physicians Practices\n",
      "34  10114                            Ascension Medical Group\n",
      "35  10117                                Starfish Pediatrics\n",
      "36  10127                   Heartland Medical Associates LLC\n",
      "37  10128                  ESFANDIAR ESFANDIARIFARD M.D. INC\n",
      "38  10132                                  Allied Healthcare\n",
      "39  10133             the New Horizon Family Health Services\n",
      "40  10134                                          MCJR, LLC\n",
      "41  10136                           San Antonio Spine Center\n",
      "42  10138                                  Andrew Adelson MD\n",
      "43  10141                          Unique Healthcare Options\n",
      "44  10142                           Winston-Salem Pediatrics\n",
      "45  10147                                    Rony Kako, M.D.\n",
      "46  10148                      Center for Women's Healthcare\n",
      "47  10154                        MASONBORO URGENT CARE, P.C.\n",
      "48  10155                             The Glaucoma Institute\n",
      "49  10157  Cottonport, Marksville, Simmesport, Mansura an...\n",
      "50  10158                                     Health Express\n",
      "51  10159                              Bernard Orewa, MD, PC\n",
      "52  10160                    Trinity Family Health Care, LLC\n",
      "53  10163                     Cuyahoga Falls Foot Care, Inc.\n",
      "54  10170  Women's Health Connecticut and Women's Health ...\n",
      "55  10185                               Barrett Clinic, P.C.\n",
      "56  10187            Brain and Spine Neurosurgical Institute\n",
      "57  10193             Women's Health Specialists of Advantia\n",
      "58  10194                               Sheng H Chang MD Inc\n",
      "59  10195                          BALLINGER HOSPITAL CLINIC\n"
     ]
    }
   ],
   "source": [
    "db = pd.DataFrame(master_list) # we will search to learn more about panads and dataframe\n",
    "print(db)"
   ]
  },
  {
   "cell_type": "code",
   "execution_count": 122,
   "id": "cbfece72-cb5d-4f68-bb40-1afb5491e637",
   "metadata": {
    "tags": []
   },
   "outputs": [],
   "source": [
    "db.to_csv(\"clinic_data\", index = False)"
   ]
  }
 ],
 "metadata": {
  "kernelspec": {
   "display_name": "Python 3 (ipykernel)",
   "language": "python",
   "name": "python3"
  },
  "language_info": {
   "codemirror_mode": {
    "name": "ipython",
    "version": 3
   },
   "file_extension": ".py",
   "mimetype": "text/x-python",
   "name": "python",
   "nbconvert_exporter": "python",
   "pygments_lexer": "ipython3",
   "version": "3.11.4"
  }
 },
 "nbformat": 4,
 "nbformat_minor": 5
}
